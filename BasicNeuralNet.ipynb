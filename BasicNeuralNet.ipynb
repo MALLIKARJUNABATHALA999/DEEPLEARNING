{
  "nbformat": 4,
  "nbformat_minor": 0,
  "metadata": {
    "colab": {
      "provenance": [],
      "toc_visible": true,
      "authorship_tag": "ABX9TyNe8L5rShjiyCAmjMpH7/8O",
      "include_colab_link": true
    },
    "kernelspec": {
      "name": "python3",
      "display_name": "Python 3"
    },
    "language_info": {
      "name": "python"
    }
  },
  "cells": [
    {
      "cell_type": "markdown",
      "metadata": {
        "id": "view-in-github",
        "colab_type": "text"
      },
      "source": [
        "<a href=\"https://colab.research.google.com/github/MALLIKARJUNABATHALA999/DEEPLEARNING/blob/main/BasicNeuralNet.ipynb\" target=\"_parent\"><img src=\"https://colab.research.google.com/assets/colab-badge.svg\" alt=\"Open In Colab\"/></a>"
      ]
    },
    {
      "cell_type": "code",
      "execution_count": 2,
      "metadata": {
        "id": "TYbqpA1cSsB4"
      },
      "outputs": [],
      "source": [
        "import tensorflow as tf\n",
        "import numpy as np\n",
        "from tensorflow import keras"
      ]
    },
    {
      "cell_type": "code",
      "source": [
        "EPOCHS = 200\n",
        "BATCH_SIZE = 128\n",
        "VERBOSE = 1\n",
        "NB_CLASSES = 10   # number of outputs = number of digits\n",
        "N_HIDDEN = 128\n",
        "VALIDATION_SPLIT = 0.2"
      ],
      "metadata": {
        "id": "Ed1IvC0OQGvg"
      },
      "execution_count": 3,
      "outputs": []
    },
    {
      "cell_type": "code",
      "source": [
        "mnist = keras.datasets.mnist\n",
        "(X_train, Y_train), (X_test, Y_test) = mnist.load_data()\n",
        "RESHAPED = 784"
      ],
      "metadata": {
        "colab": {
          "base_uri": "https://localhost:8080/"
        },
        "id": "lFQMrgaSQggE",
        "outputId": "ba940ea3-a65e-44e0-db6c-40d70aea6970"
      },
      "execution_count": 4,
      "outputs": [
        {
          "output_type": "stream",
          "name": "stdout",
          "text": [
            "Downloading data from https://storage.googleapis.com/tensorflow/tf-keras-datasets/mnist.npz\n",
            "11490434/11490434 [==============================] - 0s 0us/step\n"
          ]
        }
      ]
    },
    {
      "cell_type": "code",
      "source": [
        "X_train = X_train.reshape(60000, RESHAPED)\n",
        "X_test = X_test.reshape(10000, RESHAPED)\n",
        "X_train = X_train.astype('float32')\n",
        "X_test = X_test.astype('float32')\n",
        "# Normalize inputs to be within in ["
      ],
      "metadata": {
        "id": "WIbkhehHQSuO"
      },
      "execution_count": 5,
      "outputs": []
    },
    {
      "cell_type": "code",
      "source": [
        "X_train /= 255\n",
        "X_test /= 255\n",
        "print(X_train.shape[0], 'train samples')\n",
        "print(X_test.shape[0], 'test samples')"
      ],
      "metadata": {
        "colab": {
          "base_uri": "https://localhost:8080/"
        },
        "id": "bLYZT6EvRC1i",
        "outputId": "98c13e33-e744-415f-fa3b-96868ee040d3"
      },
      "execution_count": 6,
      "outputs": [
        {
          "output_type": "stream",
          "name": "stdout",
          "text": [
            "60000 train samples\n",
            "10000 test samples\n"
          ]
        }
      ]
    },
    {
      "cell_type": "code",
      "source": [
        "Y_train = tf.keras.utils.to_categorical(Y_train, NB_CLASSES)\n",
        "Y_test = tf.keras.utils.to_categorical(Y_test, NB_CLASSES)"
      ],
      "metadata": {
        "id": "mbk1VJE4Ti6Z"
      },
      "execution_count": 7,
      "outputs": []
    },
    {
      "cell_type": "code",
      "source": [
        "Y_train"
      ],
      "metadata": {
        "id": "qhod3ZlZT2dH",
        "colab": {
          "base_uri": "https://localhost:8080/"
        },
        "outputId": "0ceaeca8-635a-42cc-881c-a15c9e3db365"
      },
      "execution_count": 8,
      "outputs": [
        {
          "output_type": "execute_result",
          "data": {
            "text/plain": [
              "array([[0., 0., 0., ..., 0., 0., 0.],\n",
              "       [1., 0., 0., ..., 0., 0., 0.],\n",
              "       [0., 0., 0., ..., 0., 0., 0.],\n",
              "       ...,\n",
              "       [0., 0., 0., ..., 0., 0., 0.],\n",
              "       [0., 0., 0., ..., 0., 0., 0.],\n",
              "       [0., 0., 0., ..., 0., 1., 0.]], dtype=float32)"
            ]
          },
          "metadata": {},
          "execution_count": 8
        }
      ]
    },
    {
      "cell_type": "code",
      "source": [
        "# Build the model.\n",
        "model = tf.keras.models.Sequential()\n",
        "model.add(keras.layers.Dense(NB_CLASSES,\n",
        "            input_shape=(RESHAPED,),\n",
        "            name='dense_layer',\n",
        "            activation='softmax'))\n"
      ],
      "metadata": {
        "id": "2OQ7A2aIaSgq"
      },
      "execution_count": 9,
      "outputs": []
    },
    {
      "cell_type": "code",
      "source": [
        "# Compiling the model.\n",
        "model.compile(optimizer='SGD',\n",
        "              loss='categorical_crossentropy',\n",
        "              metrics=['accuracy'])\n"
      ],
      "metadata": {
        "id": "MiW_o0vwaFLv"
      },
      "execution_count": 10,
      "outputs": []
    },
    {
      "cell_type": "code",
      "source": [
        "# Training the model.\n",
        "model.fit(X_train, Y_train,\n",
        "          batch_size=BATCH_SIZE, epochs=EPOCHS,\n",
        "          verbose=VERBOSE, validation_split=VALIDATION_SPLIT)"
      ],
      "metadata": {
        "id": "OyvVDZXEaTa0",
        "colab": {
          "base_uri": "https://localhost:8080/"
        },
        "outputId": "b302bbae-8183-4b00-eb0b-b9e2c5b800dc"
      },
      "execution_count": 12,
      "outputs": [
        {
          "output_type": "stream",
          "name": "stdout",
          "text": [
            "Epoch 1/200\n",
            "375/375 [==============================] - 1s 3ms/step - loss: 0.2759 - accuracy: 0.9232 - val_loss: 0.2756 - val_accuracy: 0.9241\n",
            "Epoch 2/200\n",
            "375/375 [==============================] - 1s 3ms/step - loss: 0.2757 - accuracy: 0.9234 - val_loss: 0.2757 - val_accuracy: 0.9237\n",
            "Epoch 3/200\n",
            "375/375 [==============================] - 1s 3ms/step - loss: 0.2756 - accuracy: 0.9235 - val_loss: 0.2756 - val_accuracy: 0.9240\n",
            "Epoch 4/200\n",
            "375/375 [==============================] - 1s 3ms/step - loss: 0.2755 - accuracy: 0.9233 - val_loss: 0.2756 - val_accuracy: 0.9243\n",
            "Epoch 5/200\n",
            "375/375 [==============================] - 1s 4ms/step - loss: 0.2754 - accuracy: 0.9236 - val_loss: 0.2755 - val_accuracy: 0.9243\n",
            "Epoch 6/200\n",
            "375/375 [==============================] - 1s 3ms/step - loss: 0.2753 - accuracy: 0.9237 - val_loss: 0.2753 - val_accuracy: 0.9243\n",
            "Epoch 7/200\n",
            "375/375 [==============================] - 2s 5ms/step - loss: 0.2752 - accuracy: 0.9236 - val_loss: 0.2752 - val_accuracy: 0.9243\n",
            "Epoch 8/200\n",
            "375/375 [==============================] - 3s 7ms/step - loss: 0.2751 - accuracy: 0.9237 - val_loss: 0.2752 - val_accuracy: 0.9245\n",
            "Epoch 9/200\n",
            "375/375 [==============================] - 2s 5ms/step - loss: 0.2749 - accuracy: 0.9237 - val_loss: 0.2752 - val_accuracy: 0.9238\n",
            "Epoch 10/200\n",
            "375/375 [==============================] - 1s 3ms/step - loss: 0.2748 - accuracy: 0.9237 - val_loss: 0.2750 - val_accuracy: 0.9241\n",
            "Epoch 11/200\n",
            "375/375 [==============================] - 1s 3ms/step - loss: 0.2747 - accuracy: 0.9239 - val_loss: 0.2750 - val_accuracy: 0.9241\n",
            "Epoch 12/200\n",
            "375/375 [==============================] - 1s 3ms/step - loss: 0.2746 - accuracy: 0.9235 - val_loss: 0.2750 - val_accuracy: 0.9242\n",
            "Epoch 13/200\n",
            "375/375 [==============================] - 1s 3ms/step - loss: 0.2745 - accuracy: 0.9237 - val_loss: 0.2749 - val_accuracy: 0.9242\n",
            "Epoch 14/200\n",
            "375/375 [==============================] - 1s 3ms/step - loss: 0.2744 - accuracy: 0.9237 - val_loss: 0.2748 - val_accuracy: 0.9242\n",
            "Epoch 15/200\n",
            "375/375 [==============================] - 1s 3ms/step - loss: 0.2743 - accuracy: 0.9239 - val_loss: 0.2747 - val_accuracy: 0.9243\n",
            "Epoch 16/200\n",
            "375/375 [==============================] - 1s 3ms/step - loss: 0.2742 - accuracy: 0.9238 - val_loss: 0.2747 - val_accuracy: 0.9241\n",
            "Epoch 17/200\n",
            "375/375 [==============================] - 1s 3ms/step - loss: 0.2740 - accuracy: 0.9238 - val_loss: 0.2747 - val_accuracy: 0.9242\n",
            "Epoch 18/200\n",
            "375/375 [==============================] - 1s 3ms/step - loss: 0.2740 - accuracy: 0.9237 - val_loss: 0.2746 - val_accuracy: 0.9241\n",
            "Epoch 19/200\n",
            "375/375 [==============================] - 1s 3ms/step - loss: 0.2738 - accuracy: 0.9236 - val_loss: 0.2745 - val_accuracy: 0.9246\n",
            "Epoch 20/200\n",
            "375/375 [==============================] - 2s 4ms/step - loss: 0.2737 - accuracy: 0.9238 - val_loss: 0.2744 - val_accuracy: 0.9240\n",
            "Epoch 21/200\n",
            "375/375 [==============================] - 1s 3ms/step - loss: 0.2736 - accuracy: 0.9239 - val_loss: 0.2744 - val_accuracy: 0.9246\n",
            "Epoch 22/200\n",
            "375/375 [==============================] - 1s 3ms/step - loss: 0.2735 - accuracy: 0.9238 - val_loss: 0.2744 - val_accuracy: 0.9247\n",
            "Epoch 23/200\n",
            "375/375 [==============================] - 1s 3ms/step - loss: 0.2734 - accuracy: 0.9239 - val_loss: 0.2743 - val_accuracy: 0.9245\n",
            "Epoch 24/200\n",
            "375/375 [==============================] - 1s 3ms/step - loss: 0.2733 - accuracy: 0.9240 - val_loss: 0.2742 - val_accuracy: 0.9243\n",
            "Epoch 25/200\n",
            "375/375 [==============================] - 1s 3ms/step - loss: 0.2732 - accuracy: 0.9239 - val_loss: 0.2742 - val_accuracy: 0.9245\n",
            "Epoch 26/200\n",
            "375/375 [==============================] - 1s 3ms/step - loss: 0.2731 - accuracy: 0.9240 - val_loss: 0.2741 - val_accuracy: 0.9243\n",
            "Epoch 27/200\n",
            "375/375 [==============================] - 1s 3ms/step - loss: 0.2730 - accuracy: 0.9240 - val_loss: 0.2741 - val_accuracy: 0.9244\n",
            "Epoch 28/200\n",
            "375/375 [==============================] - 1s 3ms/step - loss: 0.2729 - accuracy: 0.9241 - val_loss: 0.2740 - val_accuracy: 0.9240\n",
            "Epoch 29/200\n",
            "375/375 [==============================] - 1s 3ms/step - loss: 0.2728 - accuracy: 0.9242 - val_loss: 0.2739 - val_accuracy: 0.9245\n",
            "Epoch 30/200\n",
            "375/375 [==============================] - 1s 3ms/step - loss: 0.2727 - accuracy: 0.9242 - val_loss: 0.2739 - val_accuracy: 0.9249\n",
            "Epoch 31/200\n",
            "375/375 [==============================] - 1s 3ms/step - loss: 0.2726 - accuracy: 0.9241 - val_loss: 0.2738 - val_accuracy: 0.9243\n",
            "Epoch 32/200\n",
            "375/375 [==============================] - 2s 4ms/step - loss: 0.2725 - accuracy: 0.9241 - val_loss: 0.2738 - val_accuracy: 0.9244\n",
            "Epoch 33/200\n",
            "375/375 [==============================] - 1s 4ms/step - loss: 0.2724 - accuracy: 0.9243 - val_loss: 0.2737 - val_accuracy: 0.9244\n",
            "Epoch 34/200\n",
            "375/375 [==============================] - 1s 2ms/step - loss: 0.2723 - accuracy: 0.9245 - val_loss: 0.2737 - val_accuracy: 0.9241\n",
            "Epoch 35/200\n",
            "375/375 [==============================] - 1s 3ms/step - loss: 0.2722 - accuracy: 0.9242 - val_loss: 0.2736 - val_accuracy: 0.9244\n",
            "Epoch 36/200\n",
            "375/375 [==============================] - 1s 3ms/step - loss: 0.2721 - accuracy: 0.9244 - val_loss: 0.2736 - val_accuracy: 0.9243\n",
            "Epoch 37/200\n",
            "375/375 [==============================] - 1s 3ms/step - loss: 0.2720 - accuracy: 0.9244 - val_loss: 0.2735 - val_accuracy: 0.9243\n",
            "Epoch 38/200\n",
            "375/375 [==============================] - 1s 3ms/step - loss: 0.2719 - accuracy: 0.9243 - val_loss: 0.2734 - val_accuracy: 0.9243\n",
            "Epoch 39/200\n",
            "375/375 [==============================] - 1s 3ms/step - loss: 0.2718 - accuracy: 0.9245 - val_loss: 0.2734 - val_accuracy: 0.9241\n",
            "Epoch 40/200\n",
            "375/375 [==============================] - 1s 3ms/step - loss: 0.2717 - accuracy: 0.9243 - val_loss: 0.2733 - val_accuracy: 0.9243\n",
            "Epoch 41/200\n",
            "375/375 [==============================] - 1s 3ms/step - loss: 0.2716 - accuracy: 0.9245 - val_loss: 0.2733 - val_accuracy: 0.9247\n",
            "Epoch 42/200\n",
            "375/375 [==============================] - 1s 3ms/step - loss: 0.2716 - accuracy: 0.9247 - val_loss: 0.2733 - val_accuracy: 0.9247\n",
            "Epoch 43/200\n",
            "375/375 [==============================] - 1s 3ms/step - loss: 0.2715 - accuracy: 0.9246 - val_loss: 0.2732 - val_accuracy: 0.9247\n",
            "Epoch 44/200\n",
            "375/375 [==============================] - 1s 4ms/step - loss: 0.2714 - accuracy: 0.9245 - val_loss: 0.2732 - val_accuracy: 0.9251\n",
            "Epoch 45/200\n",
            "375/375 [==============================] - 2s 4ms/step - loss: 0.2713 - accuracy: 0.9245 - val_loss: 0.2731 - val_accuracy: 0.9246\n",
            "Epoch 46/200\n",
            "375/375 [==============================] - 1s 3ms/step - loss: 0.2712 - accuracy: 0.9248 - val_loss: 0.2731 - val_accuracy: 0.9240\n",
            "Epoch 47/200\n",
            "375/375 [==============================] - 1s 3ms/step - loss: 0.2711 - accuracy: 0.9246 - val_loss: 0.2730 - val_accuracy: 0.9246\n",
            "Epoch 48/200\n",
            "375/375 [==============================] - 1s 3ms/step - loss: 0.2710 - accuracy: 0.9249 - val_loss: 0.2730 - val_accuracy: 0.9247\n",
            "Epoch 49/200\n",
            "375/375 [==============================] - 1s 3ms/step - loss: 0.2709 - accuracy: 0.9248 - val_loss: 0.2730 - val_accuracy: 0.9246\n",
            "Epoch 50/200\n",
            "375/375 [==============================] - 1s 3ms/step - loss: 0.2708 - accuracy: 0.9249 - val_loss: 0.2729 - val_accuracy: 0.9244\n",
            "Epoch 51/200\n",
            "375/375 [==============================] - 1s 3ms/step - loss: 0.2707 - accuracy: 0.9247 - val_loss: 0.2729 - val_accuracy: 0.9243\n",
            "Epoch 52/200\n",
            "375/375 [==============================] - 1s 3ms/step - loss: 0.2706 - accuracy: 0.9247 - val_loss: 0.2728 - val_accuracy: 0.9250\n",
            "Epoch 53/200\n",
            "375/375 [==============================] - 1s 3ms/step - loss: 0.2705 - accuracy: 0.9250 - val_loss: 0.2728 - val_accuracy: 0.9249\n",
            "Epoch 54/200\n",
            "375/375 [==============================] - 1s 3ms/step - loss: 0.2704 - accuracy: 0.9248 - val_loss: 0.2727 - val_accuracy: 0.9240\n",
            "Epoch 55/200\n",
            "375/375 [==============================] - 1s 3ms/step - loss: 0.2704 - accuracy: 0.9246 - val_loss: 0.2727 - val_accuracy: 0.9243\n",
            "Epoch 56/200\n",
            "375/375 [==============================] - 1s 3ms/step - loss: 0.2703 - accuracy: 0.9249 - val_loss: 0.2726 - val_accuracy: 0.9243\n",
            "Epoch 57/200\n",
            "375/375 [==============================] - 2s 4ms/step - loss: 0.2702 - accuracy: 0.9250 - val_loss: 0.2726 - val_accuracy: 0.9243\n",
            "Epoch 58/200\n",
            "375/375 [==============================] - 1s 4ms/step - loss: 0.2701 - accuracy: 0.9248 - val_loss: 0.2726 - val_accuracy: 0.9246\n",
            "Epoch 59/200\n",
            "375/375 [==============================] - 1s 3ms/step - loss: 0.2700 - accuracy: 0.9250 - val_loss: 0.2725 - val_accuracy: 0.9244\n",
            "Epoch 60/200\n",
            "375/375 [==============================] - 1s 3ms/step - loss: 0.2699 - accuracy: 0.9252 - val_loss: 0.2725 - val_accuracy: 0.9251\n",
            "Epoch 61/200\n",
            "375/375 [==============================] - 1s 3ms/step - loss: 0.2699 - accuracy: 0.9249 - val_loss: 0.2724 - val_accuracy: 0.9245\n",
            "Epoch 62/200\n",
            "375/375 [==============================] - 1s 3ms/step - loss: 0.2698 - accuracy: 0.9251 - val_loss: 0.2724 - val_accuracy: 0.9243\n",
            "Epoch 63/200\n",
            "375/375 [==============================] - 1s 3ms/step - loss: 0.2697 - accuracy: 0.9254 - val_loss: 0.2723 - val_accuracy: 0.9247\n",
            "Epoch 64/200\n",
            "375/375 [==============================] - 1s 3ms/step - loss: 0.2696 - accuracy: 0.9251 - val_loss: 0.2723 - val_accuracy: 0.9245\n",
            "Epoch 65/200\n",
            "375/375 [==============================] - 1s 3ms/step - loss: 0.2695 - accuracy: 0.9253 - val_loss: 0.2722 - val_accuracy: 0.9248\n",
            "Epoch 66/200\n",
            "375/375 [==============================] - 1s 3ms/step - loss: 0.2695 - accuracy: 0.9250 - val_loss: 0.2721 - val_accuracy: 0.9243\n",
            "Epoch 67/200\n",
            "375/375 [==============================] - 1s 3ms/step - loss: 0.2693 - accuracy: 0.9252 - val_loss: 0.2721 - val_accuracy: 0.9243\n",
            "Epoch 68/200\n",
            "375/375 [==============================] - 2s 5ms/step - loss: 0.2693 - accuracy: 0.9251 - val_loss: 0.2721 - val_accuracy: 0.9245\n",
            "Epoch 69/200\n",
            "375/375 [==============================] - 1s 4ms/step - loss: 0.2692 - accuracy: 0.9254 - val_loss: 0.2721 - val_accuracy: 0.9243\n",
            "Epoch 70/200\n",
            "375/375 [==============================] - 1s 3ms/step - loss: 0.2691 - accuracy: 0.9251 - val_loss: 0.2721 - val_accuracy: 0.9245\n",
            "Epoch 71/200\n",
            "375/375 [==============================] - 1s 3ms/step - loss: 0.2690 - accuracy: 0.9252 - val_loss: 0.2720 - val_accuracy: 0.9245\n",
            "Epoch 72/200\n",
            "375/375 [==============================] - 1s 3ms/step - loss: 0.2690 - accuracy: 0.9252 - val_loss: 0.2719 - val_accuracy: 0.9247\n",
            "Epoch 73/200\n",
            "375/375 [==============================] - 1s 3ms/step - loss: 0.2689 - accuracy: 0.9253 - val_loss: 0.2719 - val_accuracy: 0.9246\n",
            "Epoch 74/200\n",
            "375/375 [==============================] - 1s 3ms/step - loss: 0.2688 - accuracy: 0.9255 - val_loss: 0.2718 - val_accuracy: 0.9246\n",
            "Epoch 75/200\n",
            "375/375 [==============================] - 1s 3ms/step - loss: 0.2687 - accuracy: 0.9253 - val_loss: 0.2719 - val_accuracy: 0.9243\n",
            "Epoch 76/200\n",
            "375/375 [==============================] - 1s 3ms/step - loss: 0.2686 - accuracy: 0.9254 - val_loss: 0.2717 - val_accuracy: 0.9247\n",
            "Epoch 77/200\n",
            "375/375 [==============================] - 1s 3ms/step - loss: 0.2685 - accuracy: 0.9255 - val_loss: 0.2718 - val_accuracy: 0.9247\n",
            "Epoch 78/200\n",
            "375/375 [==============================] - 1s 3ms/step - loss: 0.2685 - accuracy: 0.9254 - val_loss: 0.2717 - val_accuracy: 0.9247\n",
            "Epoch 79/200\n",
            "375/375 [==============================] - 2s 4ms/step - loss: 0.2684 - accuracy: 0.9254 - val_loss: 0.2716 - val_accuracy: 0.9246\n",
            "Epoch 80/200\n",
            "375/375 [==============================] - 2s 4ms/step - loss: 0.2683 - accuracy: 0.9254 - val_loss: 0.2716 - val_accuracy: 0.9246\n",
            "Epoch 81/200\n",
            "375/375 [==============================] - 1s 3ms/step - loss: 0.2682 - accuracy: 0.9255 - val_loss: 0.2716 - val_accuracy: 0.9247\n",
            "Epoch 82/200\n",
            "375/375 [==============================] - 1s 3ms/step - loss: 0.2682 - accuracy: 0.9256 - val_loss: 0.2716 - val_accuracy: 0.9245\n",
            "Epoch 83/200\n",
            "375/375 [==============================] - 1s 3ms/step - loss: 0.2681 - accuracy: 0.9254 - val_loss: 0.2716 - val_accuracy: 0.9252\n",
            "Epoch 84/200\n",
            "375/375 [==============================] - 1s 3ms/step - loss: 0.2680 - accuracy: 0.9252 - val_loss: 0.2716 - val_accuracy: 0.9246\n",
            "Epoch 85/200\n",
            "375/375 [==============================] - 1s 3ms/step - loss: 0.2679 - accuracy: 0.9256 - val_loss: 0.2715 - val_accuracy: 0.9252\n",
            "Epoch 86/200\n",
            "375/375 [==============================] - 1s 3ms/step - loss: 0.2679 - accuracy: 0.9253 - val_loss: 0.2714 - val_accuracy: 0.9247\n",
            "Epoch 87/200\n",
            "375/375 [==============================] - 1s 3ms/step - loss: 0.2678 - accuracy: 0.9259 - val_loss: 0.2715 - val_accuracy: 0.9251\n",
            "Epoch 88/200\n",
            "375/375 [==============================] - 1s 3ms/step - loss: 0.2677 - accuracy: 0.9256 - val_loss: 0.2714 - val_accuracy: 0.9247\n",
            "Epoch 89/200\n",
            "375/375 [==============================] - 1s 3ms/step - loss: 0.2676 - accuracy: 0.9255 - val_loss: 0.2714 - val_accuracy: 0.9246\n",
            "Epoch 90/200\n",
            "375/375 [==============================] - 2s 4ms/step - loss: 0.2675 - accuracy: 0.9257 - val_loss: 0.2714 - val_accuracy: 0.9252\n",
            "Epoch 91/200\n",
            "375/375 [==============================] - 2s 4ms/step - loss: 0.2675 - accuracy: 0.9258 - val_loss: 0.2713 - val_accuracy: 0.9252\n",
            "Epoch 92/200\n",
            "375/375 [==============================] - 1s 3ms/step - loss: 0.2674 - accuracy: 0.9254 - val_loss: 0.2713 - val_accuracy: 0.9249\n",
            "Epoch 93/200\n",
            "375/375 [==============================] - 1s 3ms/step - loss: 0.2674 - accuracy: 0.9257 - val_loss: 0.2712 - val_accuracy: 0.9249\n",
            "Epoch 94/200\n",
            "375/375 [==============================] - 1s 3ms/step - loss: 0.2673 - accuracy: 0.9260 - val_loss: 0.2711 - val_accuracy: 0.9249\n",
            "Epoch 95/200\n",
            "375/375 [==============================] - 1s 3ms/step - loss: 0.2672 - accuracy: 0.9257 - val_loss: 0.2711 - val_accuracy: 0.9247\n",
            "Epoch 96/200\n",
            "375/375 [==============================] - 1s 3ms/step - loss: 0.2672 - accuracy: 0.9258 - val_loss: 0.2711 - val_accuracy: 0.9246\n",
            "Epoch 97/200\n",
            "375/375 [==============================] - 1s 3ms/step - loss: 0.2671 - accuracy: 0.9259 - val_loss: 0.2710 - val_accuracy: 0.9251\n",
            "Epoch 98/200\n",
            "375/375 [==============================] - 1s 3ms/step - loss: 0.2670 - accuracy: 0.9260 - val_loss: 0.2710 - val_accuracy: 0.9250\n",
            "Epoch 99/200\n",
            "375/375 [==============================] - 1s 3ms/step - loss: 0.2669 - accuracy: 0.9260 - val_loss: 0.2710 - val_accuracy: 0.9251\n",
            "Epoch 100/200\n",
            "375/375 [==============================] - 1s 3ms/step - loss: 0.2669 - accuracy: 0.9261 - val_loss: 0.2709 - val_accuracy: 0.9249\n",
            "Epoch 101/200\n",
            "375/375 [==============================] - 2s 4ms/step - loss: 0.2668 - accuracy: 0.9258 - val_loss: 0.2709 - val_accuracy: 0.9250\n",
            "Epoch 102/200\n",
            "375/375 [==============================] - 2s 5ms/step - loss: 0.2667 - accuracy: 0.9261 - val_loss: 0.2709 - val_accuracy: 0.9252\n",
            "Epoch 103/200\n",
            "375/375 [==============================] - 1s 4ms/step - loss: 0.2667 - accuracy: 0.9258 - val_loss: 0.2709 - val_accuracy: 0.9252\n",
            "Epoch 104/200\n",
            "375/375 [==============================] - 1s 4ms/step - loss: 0.2666 - accuracy: 0.9261 - val_loss: 0.2708 - val_accuracy: 0.9252\n",
            "Epoch 105/200\n",
            "375/375 [==============================] - 1s 3ms/step - loss: 0.2665 - accuracy: 0.9260 - val_loss: 0.2708 - val_accuracy: 0.9251\n",
            "Epoch 106/200\n",
            "375/375 [==============================] - 1s 3ms/step - loss: 0.2664 - accuracy: 0.9260 - val_loss: 0.2708 - val_accuracy: 0.9249\n",
            "Epoch 107/200\n",
            "375/375 [==============================] - 1s 3ms/step - loss: 0.2664 - accuracy: 0.9261 - val_loss: 0.2707 - val_accuracy: 0.9249\n",
            "Epoch 108/200\n",
            "375/375 [==============================] - 1s 3ms/step - loss: 0.2663 - accuracy: 0.9261 - val_loss: 0.2707 - val_accuracy: 0.9250\n",
            "Epoch 109/200\n",
            "375/375 [==============================] - 1s 3ms/step - loss: 0.2662 - accuracy: 0.9261 - val_loss: 0.2706 - val_accuracy: 0.9249\n",
            "Epoch 110/200\n",
            "375/375 [==============================] - 1s 3ms/step - loss: 0.2662 - accuracy: 0.9259 - val_loss: 0.2706 - val_accuracy: 0.9252\n",
            "Epoch 111/200\n",
            "375/375 [==============================] - 1s 3ms/step - loss: 0.2661 - accuracy: 0.9262 - val_loss: 0.2706 - val_accuracy: 0.9251\n",
            "Epoch 112/200\n",
            "375/375 [==============================] - 1s 3ms/step - loss: 0.2660 - accuracy: 0.9260 - val_loss: 0.2706 - val_accuracy: 0.9251\n",
            "Epoch 113/200\n",
            "375/375 [==============================] - 2s 4ms/step - loss: 0.2660 - accuracy: 0.9259 - val_loss: 0.2705 - val_accuracy: 0.9251\n",
            "Epoch 114/200\n",
            "375/375 [==============================] - 2s 4ms/step - loss: 0.2659 - accuracy: 0.9259 - val_loss: 0.2705 - val_accuracy: 0.9256\n",
            "Epoch 115/200\n",
            "375/375 [==============================] - 1s 3ms/step - loss: 0.2658 - accuracy: 0.9260 - val_loss: 0.2705 - val_accuracy: 0.9254\n",
            "Epoch 116/200\n",
            "375/375 [==============================] - 1s 3ms/step - loss: 0.2658 - accuracy: 0.9262 - val_loss: 0.2704 - val_accuracy: 0.9252\n",
            "Epoch 117/200\n",
            "375/375 [==============================] - 1s 3ms/step - loss: 0.2657 - accuracy: 0.9261 - val_loss: 0.2704 - val_accuracy: 0.9252\n",
            "Epoch 118/200\n",
            "375/375 [==============================] - 1s 3ms/step - loss: 0.2656 - accuracy: 0.9263 - val_loss: 0.2704 - val_accuracy: 0.9255\n",
            "Epoch 119/200\n",
            "375/375 [==============================] - 1s 3ms/step - loss: 0.2656 - accuracy: 0.9263 - val_loss: 0.2703 - val_accuracy: 0.9258\n",
            "Epoch 120/200\n",
            "375/375 [==============================] - 1s 3ms/step - loss: 0.2655 - accuracy: 0.9263 - val_loss: 0.2704 - val_accuracy: 0.9256\n",
            "Epoch 121/200\n",
            "375/375 [==============================] - 1s 3ms/step - loss: 0.2654 - accuracy: 0.9262 - val_loss: 0.2703 - val_accuracy: 0.9253\n",
            "Epoch 122/200\n",
            "375/375 [==============================] - 1s 3ms/step - loss: 0.2654 - accuracy: 0.9262 - val_loss: 0.2703 - val_accuracy: 0.9255\n",
            "Epoch 123/200\n",
            "375/375 [==============================] - 1s 3ms/step - loss: 0.2653 - accuracy: 0.9261 - val_loss: 0.2703 - val_accuracy: 0.9253\n",
            "Epoch 124/200\n",
            "375/375 [==============================] - 1s 3ms/step - loss: 0.2653 - accuracy: 0.9263 - val_loss: 0.2702 - val_accuracy: 0.9252\n",
            "Epoch 125/200\n",
            "375/375 [==============================] - 2s 4ms/step - loss: 0.2652 - accuracy: 0.9263 - val_loss: 0.2702 - val_accuracy: 0.9249\n",
            "Epoch 126/200\n",
            "375/375 [==============================] - 2s 4ms/step - loss: 0.2651 - accuracy: 0.9264 - val_loss: 0.2702 - val_accuracy: 0.9251\n",
            "Epoch 127/200\n",
            "375/375 [==============================] - 1s 3ms/step - loss: 0.2651 - accuracy: 0.9264 - val_loss: 0.2701 - val_accuracy: 0.9254\n",
            "Epoch 128/200\n",
            "375/375 [==============================] - 1s 3ms/step - loss: 0.2650 - accuracy: 0.9264 - val_loss: 0.2701 - val_accuracy: 0.9256\n",
            "Epoch 129/200\n",
            "375/375 [==============================] - 1s 3ms/step - loss: 0.2649 - accuracy: 0.9262 - val_loss: 0.2700 - val_accuracy: 0.9254\n",
            "Epoch 130/200\n",
            "375/375 [==============================] - 1s 3ms/step - loss: 0.2648 - accuracy: 0.9264 - val_loss: 0.2701 - val_accuracy: 0.9258\n",
            "Epoch 131/200\n",
            "375/375 [==============================] - 1s 3ms/step - loss: 0.2648 - accuracy: 0.9264 - val_loss: 0.2700 - val_accuracy: 0.9252\n",
            "Epoch 132/200\n",
            "375/375 [==============================] - 1s 3ms/step - loss: 0.2648 - accuracy: 0.9264 - val_loss: 0.2700 - val_accuracy: 0.9257\n",
            "Epoch 133/200\n",
            "375/375 [==============================] - 1s 3ms/step - loss: 0.2647 - accuracy: 0.9266 - val_loss: 0.2700 - val_accuracy: 0.9256\n",
            "Epoch 134/200\n",
            "375/375 [==============================] - 1s 3ms/step - loss: 0.2646 - accuracy: 0.9266 - val_loss: 0.2700 - val_accuracy: 0.9256\n",
            "Epoch 135/200\n",
            "375/375 [==============================] - 1s 3ms/step - loss: 0.2646 - accuracy: 0.9265 - val_loss: 0.2699 - val_accuracy: 0.9255\n",
            "Epoch 136/200\n",
            "375/375 [==============================] - 1s 3ms/step - loss: 0.2645 - accuracy: 0.9265 - val_loss: 0.2699 - val_accuracy: 0.9253\n",
            "Epoch 137/200\n",
            "375/375 [==============================] - 2s 4ms/step - loss: 0.2644 - accuracy: 0.9264 - val_loss: 0.2699 - val_accuracy: 0.9252\n",
            "Epoch 138/200\n",
            "375/375 [==============================] - 2s 4ms/step - loss: 0.2644 - accuracy: 0.9264 - val_loss: 0.2699 - val_accuracy: 0.9252\n",
            "Epoch 139/200\n",
            "375/375 [==============================] - 1s 3ms/step - loss: 0.2643 - accuracy: 0.9264 - val_loss: 0.2698 - val_accuracy: 0.9257\n",
            "Epoch 140/200\n",
            "375/375 [==============================] - 1s 3ms/step - loss: 0.2643 - accuracy: 0.9266 - val_loss: 0.2698 - val_accuracy: 0.9257\n",
            "Epoch 141/200\n",
            "375/375 [==============================] - 1s 3ms/step - loss: 0.2642 - accuracy: 0.9265 - val_loss: 0.2698 - val_accuracy: 0.9254\n",
            "Epoch 142/200\n",
            "375/375 [==============================] - 1s 3ms/step - loss: 0.2641 - accuracy: 0.9268 - val_loss: 0.2698 - val_accuracy: 0.9259\n",
            "Epoch 143/200\n",
            "375/375 [==============================] - 1s 3ms/step - loss: 0.2641 - accuracy: 0.9266 - val_loss: 0.2697 - val_accuracy: 0.9254\n",
            "Epoch 144/200\n",
            "375/375 [==============================] - 1s 3ms/step - loss: 0.2640 - accuracy: 0.9266 - val_loss: 0.2697 - val_accuracy: 0.9258\n",
            "Epoch 145/200\n",
            "375/375 [==============================] - 1s 3ms/step - loss: 0.2640 - accuracy: 0.9266 - val_loss: 0.2697 - val_accuracy: 0.9257\n",
            "Epoch 146/200\n",
            "375/375 [==============================] - 1s 3ms/step - loss: 0.2639 - accuracy: 0.9266 - val_loss: 0.2697 - val_accuracy: 0.9259\n",
            "Epoch 147/200\n",
            "375/375 [==============================] - 1s 3ms/step - loss: 0.2638 - accuracy: 0.9267 - val_loss: 0.2697 - val_accuracy: 0.9257\n",
            "Epoch 148/200\n",
            "375/375 [==============================] - 1s 3ms/step - loss: 0.2638 - accuracy: 0.9267 - val_loss: 0.2697 - val_accuracy: 0.9258\n",
            "Epoch 149/200\n",
            "375/375 [==============================] - 2s 5ms/step - loss: 0.2637 - accuracy: 0.9267 - val_loss: 0.2696 - val_accuracy: 0.9258\n",
            "Epoch 150/200\n",
            "375/375 [==============================] - 2s 4ms/step - loss: 0.2637 - accuracy: 0.9265 - val_loss: 0.2696 - val_accuracy: 0.9258\n",
            "Epoch 151/200\n",
            "375/375 [==============================] - 1s 3ms/step - loss: 0.2636 - accuracy: 0.9266 - val_loss: 0.2696 - val_accuracy: 0.9259\n",
            "Epoch 152/200\n",
            "375/375 [==============================] - 1s 3ms/step - loss: 0.2636 - accuracy: 0.9269 - val_loss: 0.2695 - val_accuracy: 0.9258\n",
            "Epoch 153/200\n",
            "375/375 [==============================] - 1s 3ms/step - loss: 0.2635 - accuracy: 0.9264 - val_loss: 0.2695 - val_accuracy: 0.9251\n",
            "Epoch 154/200\n",
            "375/375 [==============================] - 1s 3ms/step - loss: 0.2634 - accuracy: 0.9269 - val_loss: 0.2696 - val_accuracy: 0.9253\n",
            "Epoch 155/200\n",
            "375/375 [==============================] - 1s 3ms/step - loss: 0.2634 - accuracy: 0.9271 - val_loss: 0.2695 - val_accuracy: 0.9262\n",
            "Epoch 156/200\n",
            "375/375 [==============================] - 1s 3ms/step - loss: 0.2633 - accuracy: 0.9269 - val_loss: 0.2695 - val_accuracy: 0.9258\n",
            "Epoch 157/200\n",
            "375/375 [==============================] - 1s 3ms/step - loss: 0.2633 - accuracy: 0.9266 - val_loss: 0.2694 - val_accuracy: 0.9259\n",
            "Epoch 158/200\n",
            "375/375 [==============================] - 1s 3ms/step - loss: 0.2632 - accuracy: 0.9267 - val_loss: 0.2694 - val_accuracy: 0.9260\n",
            "Epoch 159/200\n",
            "375/375 [==============================] - 1s 3ms/step - loss: 0.2631 - accuracy: 0.9269 - val_loss: 0.2694 - val_accuracy: 0.9258\n",
            "Epoch 160/200\n",
            "375/375 [==============================] - 1s 4ms/step - loss: 0.2631 - accuracy: 0.9267 - val_loss: 0.2693 - val_accuracy: 0.9259\n",
            "Epoch 161/200\n",
            "375/375 [==============================] - 2s 4ms/step - loss: 0.2630 - accuracy: 0.9270 - val_loss: 0.2694 - val_accuracy: 0.9258\n",
            "Epoch 162/200\n",
            "375/375 [==============================] - 1s 4ms/step - loss: 0.2630 - accuracy: 0.9266 - val_loss: 0.2694 - val_accuracy: 0.9254\n",
            "Epoch 163/200\n",
            "375/375 [==============================] - 1s 3ms/step - loss: 0.2629 - accuracy: 0.9266 - val_loss: 0.2692 - val_accuracy: 0.9256\n",
            "Epoch 164/200\n",
            "375/375 [==============================] - 1s 3ms/step - loss: 0.2629 - accuracy: 0.9268 - val_loss: 0.2693 - val_accuracy: 0.9259\n",
            "Epoch 165/200\n",
            "375/375 [==============================] - 1s 3ms/step - loss: 0.2628 - accuracy: 0.9269 - val_loss: 0.2692 - val_accuracy: 0.9261\n",
            "Epoch 166/200\n",
            "375/375 [==============================] - 1s 3ms/step - loss: 0.2628 - accuracy: 0.9270 - val_loss: 0.2692 - val_accuracy: 0.9258\n",
            "Epoch 167/200\n",
            "375/375 [==============================] - 1s 3ms/step - loss: 0.2627 - accuracy: 0.9268 - val_loss: 0.2692 - val_accuracy: 0.9260\n",
            "Epoch 168/200\n",
            "375/375 [==============================] - 1s 3ms/step - loss: 0.2627 - accuracy: 0.9269 - val_loss: 0.2692 - val_accuracy: 0.9259\n",
            "Epoch 169/200\n",
            "375/375 [==============================] - 1s 3ms/step - loss: 0.2626 - accuracy: 0.9271 - val_loss: 0.2692 - val_accuracy: 0.9258\n",
            "Epoch 170/200\n",
            "375/375 [==============================] - 1s 3ms/step - loss: 0.2626 - accuracy: 0.9269 - val_loss: 0.2691 - val_accuracy: 0.9260\n",
            "Epoch 171/200\n",
            "375/375 [==============================] - 1s 3ms/step - loss: 0.2625 - accuracy: 0.9267 - val_loss: 0.2690 - val_accuracy: 0.9254\n",
            "Epoch 172/200\n",
            "375/375 [==============================] - 1s 3ms/step - loss: 0.2625 - accuracy: 0.9272 - val_loss: 0.2691 - val_accuracy: 0.9262\n",
            "Epoch 173/200\n",
            "375/375 [==============================] - 2s 5ms/step - loss: 0.2624 - accuracy: 0.9274 - val_loss: 0.2691 - val_accuracy: 0.9259\n",
            "Epoch 174/200\n",
            "375/375 [==============================] - 2s 4ms/step - loss: 0.2624 - accuracy: 0.9271 - val_loss: 0.2690 - val_accuracy: 0.9261\n",
            "Epoch 175/200\n",
            "375/375 [==============================] - 1s 3ms/step - loss: 0.2623 - accuracy: 0.9269 - val_loss: 0.2691 - val_accuracy: 0.9258\n",
            "Epoch 176/200\n",
            "375/375 [==============================] - 1s 3ms/step - loss: 0.2622 - accuracy: 0.9272 - val_loss: 0.2690 - val_accuracy: 0.9262\n",
            "Epoch 177/200\n",
            "375/375 [==============================] - 1s 3ms/step - loss: 0.2622 - accuracy: 0.9269 - val_loss: 0.2689 - val_accuracy: 0.9261\n",
            "Epoch 178/200\n",
            "375/375 [==============================] - 1s 3ms/step - loss: 0.2621 - accuracy: 0.9271 - val_loss: 0.2689 - val_accuracy: 0.9261\n",
            "Epoch 179/200\n",
            "375/375 [==============================] - 1s 3ms/step - loss: 0.2621 - accuracy: 0.9270 - val_loss: 0.2689 - val_accuracy: 0.9257\n",
            "Epoch 180/200\n",
            "375/375 [==============================] - 1s 3ms/step - loss: 0.2620 - accuracy: 0.9270 - val_loss: 0.2689 - val_accuracy: 0.9259\n",
            "Epoch 181/200\n",
            "375/375 [==============================] - 1s 3ms/step - loss: 0.2620 - accuracy: 0.9271 - val_loss: 0.2688 - val_accuracy: 0.9262\n",
            "Epoch 182/200\n",
            "375/375 [==============================] - 1s 3ms/step - loss: 0.2619 - accuracy: 0.9270 - val_loss: 0.2689 - val_accuracy: 0.9259\n",
            "Epoch 183/200\n",
            "375/375 [==============================] - 1s 3ms/step - loss: 0.2619 - accuracy: 0.9271 - val_loss: 0.2689 - val_accuracy: 0.9262\n",
            "Epoch 184/200\n",
            "375/375 [==============================] - 1s 3ms/step - loss: 0.2618 - accuracy: 0.9274 - val_loss: 0.2689 - val_accuracy: 0.9261\n",
            "Epoch 185/200\n",
            "375/375 [==============================] - 2s 4ms/step - loss: 0.2618 - accuracy: 0.9272 - val_loss: 0.2688 - val_accuracy: 0.9259\n",
            "Epoch 186/200\n",
            "375/375 [==============================] - 2s 4ms/step - loss: 0.2617 - accuracy: 0.9272 - val_loss: 0.2689 - val_accuracy: 0.9257\n",
            "Epoch 187/200\n",
            "375/375 [==============================] - 1s 3ms/step - loss: 0.2617 - accuracy: 0.9271 - val_loss: 0.2688 - val_accuracy: 0.9264\n",
            "Epoch 188/200\n",
            "375/375 [==============================] - 1s 3ms/step - loss: 0.2616 - accuracy: 0.9270 - val_loss: 0.2687 - val_accuracy: 0.9262\n",
            "Epoch 189/200\n",
            "375/375 [==============================] - 1s 3ms/step - loss: 0.2616 - accuracy: 0.9273 - val_loss: 0.2687 - val_accuracy: 0.9262\n",
            "Epoch 190/200\n",
            "375/375 [==============================] - 1s 3ms/step - loss: 0.2615 - accuracy: 0.9271 - val_loss: 0.2687 - val_accuracy: 0.9263\n",
            "Epoch 191/200\n",
            "375/375 [==============================] - 1s 3ms/step - loss: 0.2615 - accuracy: 0.9273 - val_loss: 0.2687 - val_accuracy: 0.9259\n",
            "Epoch 192/200\n",
            "375/375 [==============================] - 1s 3ms/step - loss: 0.2614 - accuracy: 0.9275 - val_loss: 0.2687 - val_accuracy: 0.9260\n",
            "Epoch 193/200\n",
            "375/375 [==============================] - 1s 3ms/step - loss: 0.2614 - accuracy: 0.9273 - val_loss: 0.2687 - val_accuracy: 0.9258\n",
            "Epoch 194/200\n",
            "375/375 [==============================] - 1s 3ms/step - loss: 0.2613 - accuracy: 0.9274 - val_loss: 0.2686 - val_accuracy: 0.9262\n",
            "Epoch 195/200\n",
            "375/375 [==============================] - 1s 3ms/step - loss: 0.2613 - accuracy: 0.9276 - val_loss: 0.2686 - val_accuracy: 0.9259\n",
            "Epoch 196/200\n",
            "375/375 [==============================] - 1s 3ms/step - loss: 0.2612 - accuracy: 0.9272 - val_loss: 0.2685 - val_accuracy: 0.9261\n",
            "Epoch 197/200\n",
            "375/375 [==============================] - 2s 4ms/step - loss: 0.2612 - accuracy: 0.9275 - val_loss: 0.2685 - val_accuracy: 0.9259\n",
            "Epoch 198/200\n",
            "375/375 [==============================] - 2s 4ms/step - loss: 0.2611 - accuracy: 0.9277 - val_loss: 0.2685 - val_accuracy: 0.9263\n",
            "Epoch 199/200\n",
            "375/375 [==============================] - 1s 3ms/step - loss: 0.2611 - accuracy: 0.9272 - val_loss: 0.2685 - val_accuracy: 0.9262\n",
            "Epoch 200/200\n",
            "375/375 [==============================] - 1s 3ms/step - loss: 0.2610 - accuracy: 0.9273 - val_loss: 0.2686 - val_accuracy: 0.9261\n"
          ]
        },
        {
          "output_type": "execute_result",
          "data": {
            "text/plain": [
              "<keras.src.callbacks.History at 0x7ee548065bd0>"
            ]
          },
          "metadata": {},
          "execution_count": 12
        }
      ]
    },
    {
      "cell_type": "code",
      "source": [
        "#evaluate the model\n",
        "test_loss, test_acc = model.evaluate(X_test, Y_test)\n",
        "print('Test accuracy:', test_acc)\n"
      ],
      "metadata": {
        "id": "hx4oexXqtCc5",
        "colab": {
          "base_uri": "https://localhost:8080/"
        },
        "outputId": "955ca7a6-b412-4353-8a1d-755aa8e3c5fa"
      },
      "execution_count": 13,
      "outputs": [
        {
          "output_type": "stream",
          "name": "stdout",
          "text": [
            "313/313 [==============================] - 1s 2ms/step - loss: 0.2709 - accuracy: 0.9232\n",
            "Test accuracy: 0.9232000112533569\n"
          ]
        }
      ]
    },
    {
      "cell_type": "code",
      "source": [],
      "metadata": {
        "id": "6cWtRufdalUV"
      },
      "execution_count": null,
      "outputs": []
    },
    {
      "cell_type": "code",
      "source": [],
      "metadata": {
        "id": "JodXv9ttT9OG"
      },
      "execution_count": null,
      "outputs": []
    },
    {
      "cell_type": "code",
      "source": [],
      "metadata": {
        "id": "tyzM8R63HniT"
      },
      "execution_count": null,
      "outputs": []
    },
    {
      "cell_type": "code",
      "source": [],
      "metadata": {
        "id": "sc6rSai1ira6"
      },
      "execution_count": null,
      "outputs": []
    },
    {
      "cell_type": "code",
      "source": [],
      "metadata": {
        "id": "UZ0L7CH1JCsj"
      },
      "execution_count": null,
      "outputs": []
    },
    {
      "cell_type": "code",
      "source": [],
      "metadata": {
        "id": "AOOobW--tOgy"
      },
      "execution_count": null,
      "outputs": []
    },
    {
      "cell_type": "code",
      "source": [],
      "metadata": {
        "id": "ccb-UVUwVCS9"
      },
      "execution_count": null,
      "outputs": []
    },
    {
      "cell_type": "code",
      "source": [],
      "metadata": {
        "id": "KuD0TIseVFcD"
      },
      "execution_count": null,
      "outputs": []
    },
    {
      "cell_type": "code",
      "source": [],
      "metadata": {
        "id": "BQkQCgZTVKYl"
      },
      "execution_count": null,
      "outputs": []
    },
    {
      "cell_type": "code",
      "source": [],
      "metadata": {
        "id": "ADjUPppCVQtY"
      },
      "execution_count": null,
      "outputs": []
    },
    {
      "cell_type": "code",
      "source": [],
      "metadata": {
        "id": "rqFor4TDV9et"
      },
      "execution_count": null,
      "outputs": []
    },
    {
      "cell_type": "code",
      "source": [],
      "metadata": {
        "id": "HEkWgUZwWJUB"
      },
      "execution_count": null,
      "outputs": []
    },
    {
      "cell_type": "code",
      "source": [],
      "metadata": {
        "id": "8x243OFKWN8g"
      },
      "execution_count": null,
      "outputs": []
    },
    {
      "cell_type": "code",
      "source": [],
      "metadata": {
        "id": "gLju8XpDkwE1"
      },
      "execution_count": null,
      "outputs": []
    }
  ]
}